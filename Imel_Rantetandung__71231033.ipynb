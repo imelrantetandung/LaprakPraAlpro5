{
  "nbformat": 4,
  "nbformat_minor": 0,
  "metadata": {
    "colab": {
      "provenance": []
    },
    "kernelspec": {
      "name": "python3",
      "display_name": "Python 3"
    },
    "language_info": {
      "name": "python"
    }
  },
  "cells": [
    {
      "cell_type": "code",
      "execution_count": null,
      "metadata": {
        "id": "Nf_6uB12LEjR"
      },
      "outputs": [],
      "source": [
        "#SOAL 1\n",
        "def perkalian(a, b):\n",
        "    hasil = 0\n",
        "    tambah = \"\"\n",
        "    while True:\n",
        "        for _ in range(a):\n",
        "            hasil = a * b\n",
        "            tambah += f\"{b} + \"\n",
        "        tambah = tambah.rstrip(\" + \")\n",
        "        break\n",
        "    return f\"{a} x {b} = {tambah} = {hasil}\"\n",
        "\n",
        "#percobaan\n",
        "print(perkalian(6, 5))\n",
        "print(perkalian (7,10))"
      ]
    },
    {
      "cell_type": "code",
      "source": [
        "#SOAL 2\n",
        "def ganjil(a,b):\n",
        "    if a > b :\n",
        "        for i in range (a,b,-2) :\n",
        "            print(i)\n",
        "    else:\n",
        "        for i in range (a,b,2):\n",
        "            print(i)\n",
        "batas_bawah = int(input(\"masukkan batas bawah : \"))\n",
        "batas_atas = int(input(\"masukkan batas atas : \"))\n",
        "\n",
        "if batas_bawah % 2 == 0:\n",
        "    batas_bawah = batas_bawah + 1\n",
        "elif batas_atas % 2 == 0 :\n",
        "    batas_atas + batas_atas + 1\n",
        "\n",
        "ganjil(batas_bawah,batas_atas)\n",
        "print(ganjil)"
      ],
      "metadata": {
        "id": "dSAUwVFqLq-E"
      },
      "execution_count": null,
      "outputs": []
    },
    {
      "cell_type": "code",
      "source": [
        "#SOAL 3\n",
        "def hitung_IPS(nilai):\n",
        "    if nilai == \"A\":\n",
        "        return 4\n",
        "    elif nilai == \"B\":\n",
        "        return 3\n",
        "    elif nilai == \"C\":\n",
        "        return 2\n",
        "    elif nilai == \"D\":\n",
        "        return 1\n",
        "    else:\n",
        "        return 0\n",
        "\n",
        "print(\"Program Penghitung IPS Mahasiswa\")\n",
        "masukkan_matkul = int(input(\"Berapa Jumlah Mata Kuliah? \"))\n",
        "\n",
        "total_nilai = 0\n",
        "for i in range(masukkan_matkul):\n",
        "    nilai = input('nilai mata kuliah {} : '.format(i + 1))\n",
        "    total_nilai += hitung_IPS(nilai)\n",
        "\n",
        "nilai_akhir = total_nilai  / masukkan_matkul\n",
        "print(\"Nilai IPS Anda Semester ini \", nilai_akhir)"
      ],
      "metadata": {
        "id": "z-UcQ7QgL1ks"
      },
      "execution_count": null,
      "outputs": []
    }
  ]
}